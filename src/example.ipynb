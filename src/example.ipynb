{
 "cells": [
  {
   "cell_type": "code",
   "execution_count": 12,
   "metadata": {},
   "outputs": [],
   "source": [
    "from CalcGrad import *\n",
    "from utils import draw_graph"
   ]
  },
  {
   "cell_type": "code",
   "execution_count": 13,
   "metadata": {},
   "outputs": [],
   "source": [
    "xs = [2.0, 3.0, -1.0]\n",
    "N = Network([4, 3, 3, 1])\n",
    "preds: list[Value] = N(xs)\n",
    "\n",
    "for pred in preds:\n",
    "    pred.backward()"
   ]
  },
  {
   "cell_type": "code",
   "execution_count": null,
   "metadata": {},
   "outputs": [
    {
     "name": "stdout",
     "output_type": "stream",
     "text": [
      "a.grad: 4.5\n",
      "c.grad: -0.75\n",
      "d.grad: 1.0\n",
      "x.grad: 1.0\n"
     ]
    }
   ],
   "source": [
    "a = Value(2.0 + 1.0)\n",
    "b = Value(4.0)\n",
    "c = Value(6.0)\n",
    "d = Value(7.0)\n",
    "\n",
    "x = (a**3/c) + d\n",
    "\n",
    "x.backward()\n",
    "\n",
    "print(\"a.grad: \" + str(a.grad))\n",
    "print(\"c.grad: \" + str(c.grad))\n",
    "print(\"d.grad: \" + str(d.grad))"
   ]
  },
  {
   "cell_type": "code",
   "execution_count": null,
   "metadata": {},
   "outputs": [
    {
     "name": "stdout",
     "output_type": "stream",
     "text": [
      "a.grad: 4.5\n",
      "c.grad: -0.75\n",
      "d.grad: 1.0\n"
     ]
    }
   ],
   "source": [
    "import torch\n",
    "\n",
    "\n",
    "a = torch.tensor(3.0, requires_grad=True)\n",
    "c = torch.tensor(6.0, requires_grad=True)  # Keep c at 6.0\n",
    "d = torch.tensor(7.0, requires_grad=True)\n",
    "\n",
    "\n",
    "x = (a**3/c) + d\n",
    "\n",
    "x.backward()\n",
    "\n",
    "print(\"a.grad: \" + str(float(a.grad)))\n",
    "print(\"c.grad: \" + str(float(c.grad)))\n",
    "print(\"d.grad: \" + str(float(d.grad)))"
   ]
  }
 ],
 "metadata": {
  "kernelspec": {
   "display_name": "Python 3",
   "language": "python",
   "name": "python3"
  },
  "language_info": {
   "codemirror_mode": {
    "name": "ipython",
    "version": 3
   },
   "file_extension": ".py",
   "mimetype": "text/x-python",
   "name": "python",
   "nbconvert_exporter": "python",
   "pygments_lexer": "ipython3",
   "version": "3.12.3"
  }
 },
 "nbformat": 4,
 "nbformat_minor": 2
}
